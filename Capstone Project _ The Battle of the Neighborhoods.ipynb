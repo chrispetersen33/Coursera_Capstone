{
 "cells": [
  {
   "cell_type": "markdown",
   "metadata": {
    "collapsed": true
   },
   "source": [
    "Introduction: Business Problem \n",
    "\n",
    "In this project I will provide an optimal location to live in a city. An optimal location in this study is one with a variety of venues/amenities within close proximity. Ideally, a resident would choose a loction within close proximity to his/her workplace.  Thus, various venues will be categorized on the basis of their distance between the most prominent workplace/industril zones in the city.  I will cluster the locales in the region based on ideal living locations.  This report specifically targets stakeholders who are interested in finding a livable location in Pune City, India."
   ]
  },
  {
   "cell_type": "code",
   "execution_count": null,
   "metadata": {},
   "outputs": [],
   "source": []
  }
 ],
 "metadata": {
  "kernelspec": {
   "display_name": "Python 3.5",
   "language": "python",
   "name": "python3"
  },
  "language_info": {
   "codemirror_mode": {
    "name": "ipython",
    "version": 3
   },
   "file_extension": ".py",
   "mimetype": "text/x-python",
   "name": "python",
   "nbconvert_exporter": "python",
   "pygments_lexer": "ipython3",
   "version": "3.5.5"
  }
 },
 "nbformat": 4,
 "nbformat_minor": 1
}
